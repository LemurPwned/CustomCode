{
 "cells": [
  {
   "cell_type": "markdown",
   "metadata": {},
   "source": [
    "#### Graphs to hunt down terrorists\n",
    "1. Efficient ways to represent graphs in python\n",
    "2. Functions that will aid in moving in graph\n",
    "3. Evaluating vertices in graph\n",
    "4. How game theory, in particular, coalition games, are used to improve graph evaluation?"
   ]
  },
  {
   "cell_type": "code",
   "execution_count": 22,
   "metadata": {
    "collapsed": false
   },
   "outputs": [],
   "source": [
    "import numpy as np"
   ]
  },
  {
   "cell_type": "markdown",
   "metadata": {},
   "source": [
    "##### 1. Let's figure out a suitable and neat way to represent graph in python.\n",
    "\n",
    "First idea, maybe a matrix? Or perhaps dictionary could be better? "
   ]
  },
  {
   "cell_type": "code",
   "execution_count": 15,
   "metadata": {
    "collapsed": false
   },
   "outputs": [
    {
     "name": "stdout",
     "output_type": "stream",
     "text": [
      "[('B', 'C'), ('B', 'D'), ('F', 'C'), ('D', 'C'), ('A', 'B'), ('A', 'C'), ('C', 'D'), ('E', 'F'), ('E', 'G')]\n",
      "['G']\n"
     ]
    }
   ],
   "source": [
    "    graph = {'A': ['B', 'C'],\n",
    "             'B': ['C', 'D'],\n",
    "             'C': ['D'],\n",
    "             'D': ['C'],\n",
    "             'E': ['F', 'C'],\n",
    "             'F': ['C'],\n",
    "             'G': []\n",
    "            }\n",
    "    def find_edges(graph):\n",
    "        edges = []\n",
    "        for node in graph:\n",
    "            for vertex in graph[node]:\n",
    "                edges.append((node,vertex))\n",
    "        return edges\n",
    "    \n",
    "    def find_isolated(graph):\n",
    "        isolated = []\n",
    "        for node in graph:\n",
    "            if len(graph[node]) == 0:\n",
    "                isolated+=node\n",
    "        return isolated\n",
    "            \n",
    "print(find_edges(graph))\n",
    "print(find_isolated(graph))"
   ]
  },
  {
   "cell_type": "code",
   "execution_count": 31,
   "metadata": {
    "collapsed": false
   },
   "outputs": [
    {
     "name": "stdout",
     "output_type": "stream",
     "text": [
      "(0, 1)\n",
      "(0, 2)\n",
      "(0, 3)\n",
      "(0, 4)\n",
      "(0, 5)\n",
      "(1, 0)\n",
      "(1, 2)\n",
      "(1, 3)\n",
      "(1, 4)\n",
      "(1, 5)\n",
      "(1, 6)\n",
      "(2, 0)\n",
      "(2, 1)\n",
      "(2, 3)\n",
      "(2, 4)\n",
      "(3, 0)\n",
      "(3, 1)\n",
      "(3, 2)\n",
      "(4, 0)\n",
      "(4, 1)\n",
      "(4, 2)\n",
      "(4, 5)\n",
      "(4, 6)\n",
      "(5, 0)\n",
      "(5, 1)\n",
      "(5, 4)\n",
      "(6, 1)\n",
      "(6, 4)\n"
     ]
    }
   ],
   "source": [
    "class Vertex:\n",
    "    def __init__(self, index, value = 0):\n",
    "        self.index = index\n",
    "        self.value = value\n",
    "        self.neighbours = []\n",
    "    def fds (self, value):\n",
    "        if self.value == value:\n",
    "            return self.index\n",
    "        for i in self.neighbours:\n",
    "            fds(i, value)\n",
    "\n",
    "    #the Erdos-Reyni model is used here\n",
    "def generate_graph(n,p):\n",
    "    vertices = [Vertex(i) for i in range(n)]\n",
    "    edges = [(i,j) for i in range(n) for j in range(i) if np.random.rand() < p]\n",
    "    for (i,j) in edges:\n",
    "        vertices[i].neighbours.append(vertices[j])\n",
    "        vertices[j].neighbours.append(vertices[i])\n",
    "    return vertices\n",
    "        \n",
    "vertices = generate_graph(7, 0.7)\n",
    "for node in vertices:\n",
    "    for vertex in node.neighbours:\n",
    "        print ((node.index, vertex.index))"
   ]
  },
  {
   "cell_type": "code",
   "execution_count": null,
   "metadata": {
    "collapsed": true
   },
   "outputs": [],
   "source": []
  },
  {
   "cell_type": "code",
   "execution_count": 2,
   "metadata": {
    "collapsed": true
   },
   "outputs": [],
   "source": [
    "import networkx as nx"
   ]
  },
  {
   "cell_type": "code",
   "execution_count": 3,
   "metadata": {
    "collapsed": false
   },
   "outputs": [
    {
     "name": "stdout",
     "output_type": "stream",
     "text": [
      "[1, 2, 'spam']\n",
      "[(1, 2)]\n"
     ]
    }
   ],
   "source": [
    "G=nx.Graph()\n",
    "G.add_node(\"spam\")\n",
    "G.add_edge(1,2)\n",
    "print(list(G.nodes()))\n",
    "print(list(G.edges()))"
   ]
  },
  {
   "cell_type": "code",
   "execution_count": null,
   "metadata": {
    "collapsed": true
   },
   "outputs": [],
   "source": []
  },
  {
   "cell_type": "code",
   "execution_count": null,
   "metadata": {
    "collapsed": true
   },
   "outputs": [],
   "source": []
  }
 ],
 "metadata": {
  "kernelspec": {
   "display_name": "Python 3",
   "language": "python",
   "name": "python3"
  },
  "language_info": {
   "codemirror_mode": {
    "name": "ipython",
    "version": 3
   },
   "file_extension": ".py",
   "mimetype": "text/x-python",
   "name": "python",
   "nbconvert_exporter": "python",
   "pygments_lexer": "ipython3",
   "version": "3.5.2"
  }
 },
 "nbformat": 4,
 "nbformat_minor": 1
}
